{
  "nbformat": 4,
  "nbformat_minor": 0,
  "metadata": {
    "colab": {
      "name": "Esonero_3.ipynb",
      "provenance": [],
      "collapsed_sections": [],
      "authorship_tag": "ABX9TyPWeUnUSHCeC9qOvMFYgMy7",
      "include_colab_link": true
    },
    "kernelspec": {
      "name": "python3",
      "display_name": "Python 3"
    },
    "language_info": {
      "name": "python"
    }
  },
  "cells": [
    {
      "cell_type": "markdown",
      "metadata": {
        "id": "view-in-github",
        "colab_type": "text"
      },
      "source": [
        "<a href=\"https://colab.research.google.com/github/RamoRema96/Esoneri/blob/main/Esonero_3.ipynb\" target=\"_parent\"><img src=\"https://colab.research.google.com/assets/colab-badge.svg\" alt=\"Open In Colab\"/></a>"
      ]
    },
    {
      "cell_type": "code",
      "execution_count": null,
      "metadata": {
        "colab": {
          "base_uri": "https://localhost:8080/"
        },
        "id": "MCOG5qurePf6",
        "outputId": "6f85e53b-881e-402b-a5d4-4c07aae8b176"
      },
      "outputs": [
        {
          "output_type": "stream",
          "name": "stdout",
          "text": [
            "--2022-06-14 13:48:53--  http://giagu.web.cern.ch/giagu/CERN/MS_vertex_esonero.npz\n",
            "Resolving giagu.web.cern.ch (giagu.web.cern.ch)... 188.184.21.205, 2001:1458:d00:34::100:59\n",
            "Connecting to giagu.web.cern.ch (giagu.web.cern.ch)|188.184.21.205|:80... connected.\n",
            "HTTP request sent, awaiting response... 200 OK\n",
            "Length: 106576990 (102M)\n",
            "Saving to: ‘MS_vertex_esonero.npz’\n",
            "\n",
            "MS_vertex_esonero.n 100%[===================>] 101.64M  36.3MB/s    in 2.8s    \n",
            "\n",
            "2022-06-14 13:48:56 (36.3 MB/s) - ‘MS_vertex_esonero.npz’ saved [106576990/106576990]\n",
            "\n"
          ]
        }
      ],
      "source": [
        "!rm -rf MS_vertex_esonero.npz\n",
        "!wget http://giagu.web.cern.ch/giagu/CERN/MS_vertex_esonero.npz "
      ]
    },
    {
      "cell_type": "code",
      "source": [
        "import numpy as np \n",
        "import matplotlib.pyplot as plt \n",
        "import pandas as pd \n",
        "from sklearn.decomposition import PCA\n",
        "import random \n",
        "\n",
        "inp_file = np.load('MS_vertex_esonero.npz')\n",
        "data = inp_file['data']\n",
        "target = inp_file['target']\n",
        "print(\"first data shape\", data.shape)\n",
        "data=data.reshape(1000,6660)\n",
        "print(\"Questa è la shape iniziale\", data.shape)\n",
        "print(target.shape)\n",
        "prompt= target <=1.5\n",
        "displaced= target>1.5 \n",
        "target[prompt]=0\n",
        "target[displaced]=1  ## Ho diviso il target in 2 classi, prompt e displaced \n",
        "\n",
        "## Controllo se le classi sono distribuite in maniera più o meno equa ( vedo se il dataset non è non è sbilanciato)\n",
        "plt.subplot(2,3,1)\n",
        "plt.hist(target)\n",
        "plt.xlabel(\"Classi\")\n",
        "plt.ylabel(\"Numero di occorrenze\")\n",
        "\n",
        "# Le classi sono un pò sbilanciate, 70:30 è il rapporto..faccio due cose alleno il modello prima con le classi bilanciate e poi \n",
        "# dopo in un altro script così come sono e vedo un pò la differenza\n",
        "\n",
        "classe_1=(sum(target))              ## Sto vedendo il numero di occorrenze delle classsi 0 e 1 \n",
        "classe_0=len(target)-classe_1    \n",
        "n=[classe_1, classe_0]  \n",
        "n_eventi=min(n)\n",
        "\n",
        "## Mi creo un dataframe con gli eventi e i target in modo da poter poi fare uno shuffle e prendere in maniera equilibrata le classi\n",
        "\n",
        "\n",
        "data2=pd.DataFrame(list(zip(data, target)), columns=[\"Dati\", \"Target\"])\n",
        "\n",
        "data2=data2.sample(frac=1) ## Sto facendo uno shuffle del dataframe\n",
        "data2=data2.groupby(\"Target\").head(n_eventi)  ##Mi sto prendendo ricreando il dataset in maniera tale da avere classi equilibrate\n",
        "\n",
        "target2=data2[\"Target\"]\n",
        "dati=data2.drop(\"Target\", axis=1)\n",
        "plt.subplot(2,3,2)\n",
        "plt.hist(target2, color=\"r\")\n",
        "plt.xlabel(\"Classi\")\n",
        "plt.ylabel(\"Numero di occorrenze\")\n",
        "plt.tight_layout()\n",
        "\n",
        "\n",
        "## Me li ritrasformo in array numpy ora \n",
        "target2=target2.values\n",
        "dati=dati.values\n",
        "\n",
        "\n",
        "##Provo a fare la groupby con gli array \n",
        "\n",
        "indici_1={}\n",
        "for i in range (len(target)):\n",
        "    indici_1[i]=target[i]\n",
        "\n",
        "dati_nuovi=[]\n",
        "target_nuovi=[]\n",
        "\n",
        "n_eventi=n_eventi+n_eventi\n",
        "\n",
        "while (len(target_nuovi) != n_eventi):\n",
        "  num=random.randint(0, len(target)-1)\n",
        "  if (indici_1[num]==1):\n",
        "    prob=random.random()\n",
        "    if (prob<0.33):\n",
        "      dati_nuovi.append(data[num])\n",
        "      target_nuovi.append(target[num])\n",
        "  else:\n",
        "    prob=random.random()\n",
        "    if (prob>0.33):\n",
        "      dati_nuovi.append(data[num])\n",
        "      target_nuovi.append(target[num])\n",
        "\n",
        "\n",
        "## Me so dovuto fare la groupby con gli array perchè quando convertivo il dataframe in numpy array mi faceva un sacco di casini, no reshape etc etc.. \n",
        "\n",
        "    \n",
        "                \n",
        "dati_nuovi=np.array(dati_nuovi)\n",
        "target_nuovi=np.array(target_nuovi)\n",
        "plt.subplot(2,3,3)\n",
        "\n",
        "plt.hist(target_nuovi)\n",
        "\n",
        "from sklearn.model_selection import train_test_split\n",
        "from sklearn.ensemble import RandomForestClassifier \n",
        "#Dividiamo il dataset in training, test e validation \n",
        "\n",
        "\n",
        "X_train,X,Y_train,Y=train_test_split(dati_nuovi,target_nuovi,train_size=0.6, shuffle=True)\n",
        "X_vali,X_test,Y_vali,Y_test=train_test_split(X,Y,train_size=0.5, shuffle=True)\n",
        "\n",
        "estimators=np.linspace(2,100,10)\n",
        "complexity=[2,100]\n",
        "\n",
        "Score_train=[[], []]\n",
        "Score_Val=[[], []]\n",
        "Score_oob=[[], []]\n",
        "\n",
        "\n",
        "\n",
        "for i in range(len(complexity)):\n",
        "  \n",
        "\n",
        "  for j in range(len(estimators)):\n",
        "    \n",
        "\n",
        "    RF=RandomForestClassifier(n_estimators=int(estimators[j]), min_samples_split=complexity[i])\n",
        "    RF.fit(X_train, Y_train)\n",
        "    score=RF.score(X_train, Y_train)\n",
        "    score_val=RF.score(X_vali, Y_vali)\n",
        "    Oob=RF.oob_score\n",
        "    \n",
        "    Score_train[i].append(score)\n",
        "    Score_Val[i].append(score_val)\n",
        "    Score_oob[i].append(Oob)\n",
        "\n",
        "    #print(\"Score_train, Score_val, Oob_score: \\n\", score, score_val, Oob)\n",
        "plt.figure(figsize=(15,15))\n",
        "plt.subplot(2,3,4)\n",
        "plt.plot(estimators, Score_train[0], \"--b^\", label=\"Complexity=2, train-set\")\n",
        "plt.plot(estimators, Score_Val[0], \"--r^\", label=\"Complexity=2, val-set\")\n",
        "#plt.plot(estimators, Score_oob[0], \"--c^\", label=\"Complexity=2, oob\")\n",
        "plt.plot(estimators, Score_train[1], \"o-g\", label=\"Complexity=100, train-set\")\n",
        "plt.plot(estimators, Score_Val[1], \"o-y\", label=\"Complexity=100, val-set\")\n",
        "#plt.plot(estimators, Score_oob[1], \"o-m^\", label=\"Complexity=100, oob\")\n",
        "plt.xlabel(\"n_estimators\")\n",
        "plt.ylabel(\"Accuracy\")\n",
        "plt.legend()\n",
        "plt.show()\n",
        "\n",
        "best_estimators=estimators[Score_Val[0].index(max(Score_Val[0]))]\n",
        "RF=RandomForestClassifier()\n",
        "RF.fit(X_train, Y_train)\n",
        "\n",
        "test_score=RF.score(X_test, Y_test)\n",
        "print(\"Test score: \", test_score)\n",
        "\n",
        "\n",
        "from sklearn.model_selection import cross_val_score\n",
        "scores = cross_val_score(RF, dati_nuovi, target_nuovi, cv=5)\n",
        "print(\"Questi sogno gli score con la cross validation: \", scores)\n",
        "\n",
        "from sklearn.metrics import confusion_matrix\n",
        "predict=RF.predict(X_test)\n",
        "c_mat = confusion_matrix(Y_test, predict, normalize='true')\n",
        "print(\"Confusion Matrix:\")\n",
        "print(c_mat)\n",
        "\n",
        "from sklearn.metrics import classification_report\n",
        "target_names = ['class 0', 'class 1']\n",
        "print(classification_report(Y_test, predict , target_names=target_names))"
      ],
      "metadata": {
        "colab": {
          "base_uri": "https://localhost:8080/",
          "height": 883
        },
        "id": "nrY9D5Q7eWax",
        "outputId": "99b504aa-03ae-4c64-8cc4-66e25d675cbc"
      },
      "execution_count": null,
      "outputs": [
        {
          "output_type": "stream",
          "name": "stdout",
          "text": [
            "first data shape (1000, 20, 333)\n",
            "Questa è la shape iniziale (1000, 6660)\n",
            "(1000,)\n"
          ]
        },
        {
          "output_type": "display_data",
          "data": {
            "text/plain": [
              "<Figure size 432x288 with 3 Axes>"
            ],
            "image/png": "[encoded data removed]"
          },
          "metadata": {
            "needs_background": "light"
          }
        },
        {
          "output_type": "display_data",
          "data": {
            "text/plain": [
              "<Figure size 1080x1080 with 1 Axes>"
            ],
            "image/png": "[encoded data removed]"
          },
          "metadata": {
            "needs_background": "light"
          }
        },
        {
          "output_type": "stream",
          "name": "stdout",
          "text": [
            "Test score:  0.8549618320610687\n",
            "Questi sogno gli score con la cross validation:  [0.87022901 0.90076336 0.85384615 0.8        0.82307692]\n",
            "Confusion Matrix:\n",
            "[[0.9        0.1       ]\n",
            " [0.18309859 0.81690141]]\n",
            "              precision    recall  f1-score   support\n",
            "\n",
            "     class 0       0.81      0.90      0.85        60\n",
            "     class 1       0.91      0.82      0.86        71\n",
            "\n",
            "    accuracy                           0.85       131\n",
            "   macro avg       0.86      0.86      0.85       131\n",
            "weighted avg       0.86      0.85      0.86       131\n",
            "\n"
          ]
        }
      ]
    },
    {
      "cell_type": "code",
      "source": [
        ""
      ],
      "metadata": {
        "id": "wyU23rFMe3bR"
      },
      "execution_count": null,
      "outputs": []
    }
  ]
}